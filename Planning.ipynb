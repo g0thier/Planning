{
 "cells": [
  {
   "cell_type": "code",
   "execution_count": 1,
   "metadata": {},
   "outputs": [],
   "source": [
    "import pandas, numpy, os, re, datetime, pytz\n",
    "from ics import Calendar, Event"
   ]
  },
  {
   "cell_type": "code",
   "execution_count": 2,
   "metadata": {},
   "outputs": [],
   "source": [
    "limite500 = list(range(0, 500))\n",
    "\n",
    "dataXL = pandas.read_excel(\"Planning.xlsx\", usecols=limite500, nrows=200, skip_blank_lines=True)\n",
    "\n",
    "dataXL = dataXL.dropna(how='all',axis=0) # Supp ligne NaN\n",
    "dataXL = dataXL.dropna(how='all',axis=0) # Supp column NaN"
   ]
  },
  {
   "cell_type": "code",
   "execution_count": 3,
   "metadata": {},
   "outputs": [
    {
     "name": "stdout",
     "output_type": "stream",
     "text": [
      "Entrez NOM Prenom : RAMMAULT Gauthier\n"
     ]
    }
   ],
   "source": [
    "my_name =input(\"Entrez NOM Prenom : \") # -> RAMMAULT Gauthier\n",
    "\n",
    "col_name = 1 # colonne des prénoms\n",
    "data = pandas.DataFrame() # cree tableau pandas\n",
    "\n",
    "while data.empty == True:\n",
    "    # tant que le tableau est vide...\n",
    "    # filtre la ligne correspondant au Prenom\n",
    "    data = dataXL[dataXL.iloc[ : , col_name ].str.contains(my_name, na=False)] #case=False\n",
    "    col_name = col_name +1"
   ]
  },
  {
   "cell_type": "code",
   "execution_count": 4,
   "metadata": {},
   "outputs": [
    {
     "name": "stdout",
     "output_type": "stream",
     "text": [
      "Datetime à reconstituer\n"
     ]
    }
   ],
   "source": [
    "date_en_titre = False\n",
    "\n",
    "for element in list(dataXL):\n",
    "    if type(element) is datetime.datetime:\n",
    "        date_en_titre = True\n",
    "\n",
    "if date_en_titre == True:\n",
    "    print('Date en titre de colonne')\n",
    "    # la première colonne est une suite de date...\n",
    "    # conversion tableau Pandas en tableau Numpy\n",
    "    result = numpy.vstack((numpy.array(list(data)), data.to_numpy()))\n",
    "    \n",
    "else :\n",
    "    print('Datetime à reconstituer')\n",
    "    jours = dataXL.iloc[0]\n",
    "    mois = dataXL.iloc[1].replace({'JANVIER': 1, 'FEVRIER': 2, 'MARS': 3, 'AVRIL': 4,\n",
    "                                   'MAI': 5, 'JUIN':6, 'JUILLET': 7, 'AOUT': 8,\n",
    "                                   'SEPTEMBRE': 9, 'OCTOBRE': 10, 'NOVEMBRE': 11, 'DECEMBRE': 12,})\n",
    "    \n",
    "    now = datetime.datetime.now()\n",
    "    dates = numpy.array([]) #vide\n",
    "    \n",
    "    # boucle de la taille du tableau\n",
    "    for i in range(dataXL.shape[1]):\n",
    "        # si c'est un chiffre\n",
    "        if re.match(r\"^[0-9]\", str(jours[i])):\n",
    "            newdate = datetime.datetime(2020, int(mois[i]), int(jours[i]))\n",
    "            \n",
    "            # fait la correction decembre 2020 pour janvier 2021\n",
    "            # avec la protection des mois precedents (sep,oct,nov)\n",
    "            if int(now.month)-3 > int(newdate.month):\n",
    "                newdate = newdate + datetime.timedelta(years = 1)\n",
    "            \n",
    "            dates = numpy.append(dates, [newdate]) # ajoute la date reconstitué\n",
    "        else:\n",
    "            dates = numpy.append(dates, [jours[i]]) # sinon le contenu de la case\n",
    "    \n",
    "    # Tableau Numpy\n",
    "    result = numpy.vstack((dates, data.to_numpy()))"
   ]
  },
  {
   "cell_type": "code",
   "execution_count": 5,
   "metadata": {},
   "outputs": [],
   "source": [
    "try:\n",
    "    my_folder = 'Planning_'+my_name\n",
    "    \n",
    "    os.mkdir(my_folder) # Directory Created\n",
    "    prevdir = os.getcwd()\n",
    "    newdir = prevdir+'/'+my_folder\n",
    "    os.chdir(os.path.expanduser(newdir)) # Directory Change\n",
    "    \n",
    "except:\n",
    "    print(\"Directory already exists\")"
   ]
  },
  {
   "cell_type": "code",
   "execution_count": 6,
   "metadata": {},
   "outputs": [],
   "source": [
    "def utc(date):\n",
    "    local_time = pytz.timezone(\"Europe/Paris\")\n",
    "\n",
    "    naive_datetime = datetime.datetime.strptime (str(date), \"%Y-%m-%d %H:%M:%S\")\n",
    "\n",
    "    local_datetime = local_time.localize(naive_datetime, is_dst=None)\n",
    "\n",
    "    utc_datetime = local_datetime.astimezone(pytz.utc)\n",
    "    \n",
    "    return utc_datetime"
   ]
  },
  {
   "cell_type": "code",
   "execution_count": 7,
   "metadata": {},
   "outputs": [],
   "source": [
    "def creation_event(start, stop, titre, journee):\n",
    "    #\n",
    "    # SI date 'start' < Date du jour : ne rien faire. \n",
    "    #\n",
    "    date_simple = str(start)[:10]\n",
    "    uid_label = 'Work-'+ my_name + date_simple\n",
    "    \n",
    "    c = Calendar()\n",
    "    e = Event(name=titre, begin=utc(start), end=utc(stop), uid=uid_label)\n",
    "\n",
    "    if journee == True:\n",
    "        e.make_all_day()\n",
    "    elif titre != 'Repos':\n",
    "        e.location = '62 Rue Pierre Charron, 75008 Paris'\n",
    "    \n",
    "    c.events.add(e)\n",
    "    with open('Planning '+date_simple+'.ics', 'w') as my_file:\n",
    "        my_file.writelines(c)"
   ]
  },
  {
   "cell_type": "code",
   "execution_count": 8,
   "metadata": {},
   "outputs": [],
   "source": [
    "for i in range(col_name,result.shape[1]):\n",
    "    # commence après le Prénom jusque fin.\n",
    "    if str(result[1,i]) == 'nan':\n",
    "        pass\n",
    "    \n",
    "    elif str(result[1,i]) == 'OFF':\n",
    "        debut = result[0,i] + datetime.timedelta(hours=10)\n",
    "        fin = debut + datetime.timedelta(hours=1)\n",
    "        titre = result[1,i]\n",
    "        #print(f'Du {debut} au {fin} : {titre}')\n",
    "        creation_event(debut, fin, \"Repos\", True)\n",
    "        \n",
    "    elif re.match(r\"^[a-zA-Z]\", result[1,i]) :\n",
    "        debut = result[0,i]\n",
    "        fin = debut + datetime.timedelta(days=1)\n",
    "        titre = result[1,i]\n",
    "        #print(f'Du {debut} au {fin} : {titre}')\n",
    "        creation_event(debut, fin, titre, False)\n",
    "        \n",
    "    elif re.match(r\"^[0-9]\", result[1,i]) :\n",
    "        \n",
    "        # Recuperation des Horaires texte...\n",
    "        heure1 = int(result[1,i][:2])\n",
    "        minut1 = int(result[1,i][3:5]) # xxHXX\n",
    "        \n",
    "        heure2 = int(result[1,i][6:8]) # xxHxx-XX\n",
    "        minut2 = int(result[1,i][-2:]) # xxH-xxHXX\n",
    "        \n",
    "        # Creation Horaires au format Datetime...\n",
    "        debut = result[0,i] + datetime.timedelta(hours=heure1) + datetime.timedelta(minutes=minut1)\n",
    "        fin = result[0,i] + datetime.timedelta(hours=heure2) + datetime.timedelta(minutes=minut2)\n",
    "        \n",
    "        # Correction Horaires Minuit+...\n",
    "        if heure2 < 12:\n",
    "            fin = fin + datetime.timedelta(days=1)\n",
    "            \n",
    "        # Titre Travail + Contenue de la case.\n",
    "        titre = 'Travail '+result[1,i]\n",
    "        \n",
    "        #print(f'Du {debut} au {fin} : {titre}')\n",
    "        creation_event(debut, fin, titre, False)\n",
    "    else:\n",
    "        pass"
   ]
  }
 ],
 "metadata": {
  "kernelspec": {
   "display_name": "Python 3",
   "language": "python",
   "name": "python3"
  },
  "language_info": {
   "codemirror_mode": {
    "name": "ipython",
    "version": 3
   },
   "file_extension": ".py",
   "mimetype": "text/x-python",
   "name": "python",
   "nbconvert_exporter": "python",
   "pygments_lexer": "ipython3",
   "version": "3.7.3"
  }
 },
 "nbformat": 4,
 "nbformat_minor": 4
}
